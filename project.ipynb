{
 "cells": [
  {
   "cell_type": "code",
   "execution_count": 11,
   "metadata": {},
   "outputs": [],
   "source": [
    "import pandas as pd\n",
    "data=pd.read_excel('data.xlsx')"
   ]
  },
  {
   "cell_type": "code",
   "execution_count": 12,
   "metadata": {},
   "outputs": [],
   "source": [
    "\n",
    "X= data.drop(['Timestamp','Gender','Age','Occupation','Live with',' Resident  Area','Rent','Satisfactions', 'Class'], axis=1)\n",
    "#X.info()\n",
    "y = data['Class']"
   ]
  },
  {
   "cell_type": "code",
   "execution_count": 13,
   "metadata": {
    "collapsed": true
   },
   "outputs": [],
   "source": [
    "from sklearn.model_selection import train_test_split\n",
    "from sklearn import tree ,metrics\n",
    "\n",
    "X_train, X_test, y_train, y_test = train_test_split(X, y, test_size=0.2,random_state=10)  \n"
   ]
  },
  {
   "cell_type": "code",
   "execution_count": 22,
   "metadata": {},
   "outputs": [
    {
     "name": "stdout",
     "output_type": "stream",
     "text": [
      "[u'H' u'M' u'L' u'M' u'M' u'M' u'L' u'M' u'M' u'M' u'H' u'H' u'M' u'M' u'L'\n",
      " u'M' u'M' u'M' u'L' u'M' u'L' u'M' u'M' u'M' u'L' u'H' u'M' u'L' u'L' u'M'\n",
      " u'M' u'M' u'L' u'M' u'H' u'L' u'M' u'M' u'M' u'M' u'L' u'M' u'L' u'M' u'H'\n",
      " u'M' u'M']\n"
     ]
    }
   ],
   "source": [
    "model = tree.DecisionTreeClassifier(criterion='entropy', random_state=20)\n",
    "model.fit(X_train,y_train)\n",
    "y_predict=model.predict(X_test)\n",
    "print(y_predict)"
   ]
  },
  {
   "cell_type": "code",
   "execution_count": 17,
   "metadata": {},
   "outputs": [
    {
     "name": "stdout",
     "output_type": "stream",
     "text": [
      "Misclassified samples: 15\n",
      "Accuracy: 0.53\n"
     ]
    }
   ],
   "source": [
    "\n",
    "count_misclassified = (y_test != y_predict).sum()\n",
    "print('Misclassified samples: {}'.format(count_misclassified))\n",
    "accuracy = metrics.accuracy_score(y_test, y_predict)\n",
    "print('Accuracy: {:.2f}'.format(accuracy))"
   ]
  },
  {
   "cell_type": "code",
   "execution_count": 19,
   "metadata": {
    "scrolled": true
   },
   "outputs": [
    {
     "name": "stdout",
     "output_type": "stream",
     "text": [
      "[u'H' u'L' u'L' u'H' u'M' u'L' u'L' u'M' u'M' u'H' u'H' u'H' u'M' u'L' u'M'\n",
      " u'H' u'L' u'L' u'M' u'M' u'L' u'H' u'L' u'H' u'L' u'H' u'L' u'L' u'M' u'L'\n",
      " u'H' u'M' u'L' u'M' u'H' u'L' u'M' u'H' u'H' u'M' u'L' u'M' u'L' u'M' u'H'\n",
      " u'H' u'L']\n",
      "Misclassified samples: 25\n",
      "Accuracy: 0.47\n"
     ]
    }
   ],
   "source": [
    "from sklearn.naive_bayes import GaussianNB\n",
    "from sklearn.model_selection import train_test_split\n",
    "from sklearn import metrics\n",
    "X_train, X_test, y_train, y_test = train_test_split(X, y, test_size=0.30,random_state=0) \n",
    "model = GaussianNB()\n",
    "model.fit(X_train, y_train)\n",
    "y_predict = model.predict(X_test)\n",
    "print(y_predict)\n",
    "# how did our model perform?\n",
    "count_misclassified = (y_test != y_predict).sum()\n",
    "print('Misclassified samples: {}'.format(count_misclassified))\n",
    "accuracy = metrics.accuracy_score(y_test, y_predict)\n",
    "print('Accuracy: {:.2f}'.format(accuracy))"
   ]
  },
  {
   "cell_type": "code",
   "execution_count": 20,
   "metadata": {},
   "outputs": [
    {
     "name": "stdout",
     "output_type": "stream",
     "text": [
      "[u'M' u'M' u'M' u'M' u'M' u'M' u'M' u'M' u'L' u'M' u'M' u'M' u'L' u'M' u'M'\n",
      " u'M' u'L' u'M' u'M' u'L' u'L' u'H' u'L' u'H' u'H' u'M' u'H' u'M' u'M' u'M'\n",
      " u'M' u'L' u'M' u'L' u'L' u'L' u'L' u'M' u'M' u'M' u'L' u'M' u'L' u'L' u'L'\n",
      " u'L' u'H']\n",
      "Misclassified samples: 13\n",
      "Accuracy: 0.72\n"
     ]
    }
   ],
   "source": [
    "from sklearn.ensemble import RandomForestClassifier\n",
    "X_train, X_test, y_train, y_test = train_test_split(X, y, test_size=0.3,random_state=20) \n",
    "model = RandomForestClassifier(n_estimators=10, criterion='entropy')\n",
    "model.fit(X_train,y_train)\n",
    "y_predict = model.predict(X_test)\n",
    "print(y_predict)\n",
    "# how did our model perform?\n",
    "count_misclassified = (y_test != y_predict).sum()\n",
    "print('Misclassified samples: {}'.format(count_misclassified))\n",
    "accuracy = metrics.accuracy_score(y_test, y_predict)\n",
    "print('Accuracy: {:.2f}'.format(accuracy))"
   ]
  },
  {
   "cell_type": "code",
   "execution_count": 21,
   "metadata": {},
   "outputs": [
    {
     "name": "stdout",
     "output_type": "stream",
     "text": [
      "[u'M' u'M' u'M' u'M' u'M' u'M' u'M' u'M' u'M' u'M' u'M' u'M' u'M' u'M' u'M'\n",
      " u'M' u'M' u'M' u'M' u'M' u'M' u'M' u'M' u'M' u'M' u'M' u'M' u'M' u'M' u'M'\n",
      " u'M' u'M' u'M' u'M' u'M' u'M' u'M' u'M' u'M' u'M' u'M' u'M' u'M' u'M' u'M'\n",
      " u'M' u'M']\n",
      "Misclassified samples: 19\n",
      "Accuracy: 0.60\n"
     ]
    }
   ],
   "source": [
    "#import pandas as pd  \n",
    "import numpy as np\n",
    "from sklearn.svm import SVC \n",
    "\n",
    "X_train, X_test, y_train, y_test = train_test_split(X, y, test_size=0.3,random_state=0)  \n",
    "svclassifier = SVC(kernel='sigmoid')  \n",
    "svclassifier.fit(X_train, y_train)  \n",
    "y_pred = svclassifier.predict(X_test)  \n",
    "print(y_pred)\n",
    "\n",
    "count_misclassified = (y_test != y_pred).sum()\n",
    "print('Misclassified samples: {}'.format(count_misclassified))\n",
    "accuracy = metrics.accuracy_score(y_test, y_pred)\n",
    "print('Accuracy: {:.2f}'.format(accuracy))\n"
   ]
  },
  {
   "cell_type": "code",
   "execution_count": null,
   "metadata": {
    "collapsed": true
   },
   "outputs": [],
   "source": []
  },
  {
   "cell_type": "code",
   "execution_count": null,
   "metadata": {
    "collapsed": true
   },
   "outputs": [],
   "source": []
  }
 ],
 "metadata": {
  "kernelspec": {
   "display_name": "Python 2",
   "language": "python",
   "name": "python2"
  },
  "language_info": {
   "codemirror_mode": {
    "name": "ipython",
    "version": 2
   },
   "file_extension": ".py",
   "mimetype": "text/x-python",
   "name": "python",
   "nbconvert_exporter": "python",
   "pygments_lexer": "ipython2",
   "version": "2.7.14"
  }
 },
 "nbformat": 4,
 "nbformat_minor": 2
}
